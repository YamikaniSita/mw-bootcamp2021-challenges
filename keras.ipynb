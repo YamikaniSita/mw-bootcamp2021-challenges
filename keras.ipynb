{
  "nbformat": 4,
  "nbformat_minor": 0,
  "metadata": {
    "colab": {
      "name": "keras.ipynb",
      "provenance": [],
      "collapsed_sections": [],
      "mount_file_id": "1ZfL9hOMcECfy1_3-HIs13D2DphjXBnYG",
      "authorship_tag": "ABX9TyP4xlSrLQRalQ5WRxIxozXS",
      "include_colab_link": true
    },
    "kernelspec": {
      "name": "python3",
      "display_name": "Python 3"
    },
    "language_info": {
      "name": "python"
    }
  },
  "cells": [
    {
      "cell_type": "markdown",
      "metadata": {
        "id": "view-in-github",
        "colab_type": "text"
      },
      "source": [
        "<a href=\"https://colab.research.google.com/github/YamikaniSita/mw-bootcamp2021-challenges/blob/main/keras.ipynb\" target=\"_parent\"><img src=\"https://colab.research.google.com/assets/colab-badge.svg\" alt=\"Open In Colab\"/></a>"
      ]
    },
    {
      "cell_type": "code",
      "execution_count": null,
      "metadata": {
        "colab": {
          "base_uri": "https://localhost:8080/"
        },
        "id": "9WaGNZE65209",
        "outputId": "3b74527f-d643-4343-977e-015ae8631c08"
      },
      "outputs": [
        {
          "output_type": "stream",
          "name": "stdout",
          "text": [
            "Requirement already satisfied: keras in /usr/local/lib/python3.7/dist-packages (2.7.0)\n"
          ]
        }
      ],
      "source": [
        "!pip install keras"
      ]
    },
    {
      "cell_type": "code",
      "source": [
        "from sklearn.preprocessing import LabelBinarizer\n",
        "from sklearn.model_selection import train_test_split\n",
        "from sklearn.metrics import classification_report\n",
        "from keras.models import Sequential\n",
        "from keras.layers.core import Dense\n",
        "from tensorflow.keras.optimizers import SGD\n",
        "from sklearn import datasets\n",
        "from matplotlib import pyplot as plt\n",
        "import numpy as np\n"
      ],
      "metadata": {
        "id": "R1x-68l65_Fn"
      },
      "execution_count": 29,
      "outputs": []
    },
    {
      "cell_type": "code",
      "source": [
        "plot_path = \"/content/drive/MyDrive/datasets\"\n",
        "print('[LOADING DATASET]')\n",
        "dataset = datasets.fetch_openml('mnist_784')\n",
        "data = dataset.data.astype('float') / 255.0\n",
        "(xTrain, xTest, yTrain, yTest) = train_test_split(data, dataset.target, test_size=0.25)"
      ],
      "metadata": {
        "colab": {
          "base_uri": "https://localhost:8080/"
        },
        "id": "TpFC9noY8JmZ",
        "outputId": "043f3c1a-f125-4b12-8dfc-42477ad4a321"
      },
      "execution_count": 18,
      "outputs": [
        {
          "output_type": "stream",
          "name": "stdout",
          "text": [
            "[LOADING DATASET]\n"
          ]
        }
      ]
    },
    {
      "cell_type": "code",
      "source": [
        "lb = LabelBinarizer()\n",
        "yTrain = lb.fit_transform(yTrain)\n",
        "yTest = lb.transform(yTest)"
      ],
      "metadata": {
        "id": "os1PfDWvFOPx"
      },
      "execution_count": 19,
      "outputs": []
    },
    {
      "cell_type": "code",
      "source": [
        "#define keras model\n",
        "model = Sequential()\n",
        "model.add(Dense(256, input_shape=(784,), activation='sigmoid'))\n",
        "model.add(Dense(128, activation='sigmoid'))\n",
        "model.add(Dense(10, activation='softmax'))"
      ],
      "metadata": {
        "id": "_D-vD_rbGJlF"
      },
      "execution_count": 24,
      "outputs": []
    },
    {
      "cell_type": "code",
      "source": [
        "print('TRAINING')\n",
        "sgd = SGD(0.01)\n",
        "model.compile(loss='categorical_crossentropy', optimizer=sgd, metrics=['accuracy'])\n",
        "H = model.fit(xTrain, yTrain, validation_data=(xTest, yTest), epochs=100, batch_size=128)\n"
      ],
      "metadata": {
        "colab": {
          "base_uri": "https://localhost:8080/"
        },
        "id": "Na12fAugJm0N",
        "outputId": "e163effa-cf60-40d0-c4d3-7de5b94932e9"
      },
      "execution_count": 30,
      "outputs": [
        {
          "output_type": "stream",
          "name": "stdout",
          "text": [
            "TRAINING\n",
            "Epoch 1/100\n",
            "411/411 [==============================] - 8s 14ms/step - loss: 2.2832 - accuracy: 0.1581 - val_loss: 2.2516 - val_accuracy: 0.2161\n",
            "Epoch 2/100\n",
            "411/411 [==============================] - 3s 7ms/step - loss: 2.2222 - accuracy: 0.3272 - val_loss: 2.1923 - val_accuracy: 0.5094\n",
            "Epoch 3/100\n",
            "411/411 [==============================] - 3s 7ms/step - loss: 2.1535 - accuracy: 0.5108 - val_loss: 2.1129 - val_accuracy: 0.5857\n",
            "Epoch 4/100\n",
            "411/411 [==============================] - 3s 8ms/step - loss: 2.0599 - accuracy: 0.6077 - val_loss: 2.0033 - val_accuracy: 0.6115\n",
            "Epoch 5/100\n",
            "411/411 [==============================] - 3s 8ms/step - loss: 1.9291 - accuracy: 0.6528 - val_loss: 1.8510 - val_accuracy: 0.6938\n",
            "Epoch 6/100\n",
            "411/411 [==============================] - 3s 7ms/step - loss: 1.7567 - accuracy: 0.6891 - val_loss: 1.6619 - val_accuracy: 0.7015\n",
            "Epoch 7/100\n",
            "411/411 [==============================] - 3s 8ms/step - loss: 1.5568 - accuracy: 0.7182 - val_loss: 1.4572 - val_accuracy: 0.7366\n",
            "Epoch 8/100\n",
            "411/411 [==============================] - 3s 8ms/step - loss: 1.3594 - accuracy: 0.7434 - val_loss: 1.2705 - val_accuracy: 0.7654\n",
            "Epoch 9/100\n",
            "411/411 [==============================] - 3s 7ms/step - loss: 1.1880 - accuracy: 0.7660 - val_loss: 1.1152 - val_accuracy: 0.7723\n",
            "Epoch 10/100\n",
            "411/411 [==============================] - 3s 8ms/step - loss: 1.0499 - accuracy: 0.7807 - val_loss: 0.9928 - val_accuracy: 0.7875\n",
            "Epoch 11/100\n",
            "411/411 [==============================] - 3s 8ms/step - loss: 0.9416 - accuracy: 0.7944 - val_loss: 0.8978 - val_accuracy: 0.7951\n",
            "Epoch 12/100\n",
            "411/411 [==============================] - 3s 8ms/step - loss: 0.8565 - accuracy: 0.8050 - val_loss: 0.8218 - val_accuracy: 0.8086\n",
            "Epoch 13/100\n",
            "411/411 [==============================] - 3s 8ms/step - loss: 0.7885 - accuracy: 0.8144 - val_loss: 0.7603 - val_accuracy: 0.8207\n",
            "Epoch 14/100\n",
            "411/411 [==============================] - 3s 8ms/step - loss: 0.7335 - accuracy: 0.8221 - val_loss: 0.7112 - val_accuracy: 0.8281\n",
            "Epoch 15/100\n",
            "411/411 [==============================] - 3s 8ms/step - loss: 0.6881 - accuracy: 0.8299 - val_loss: 0.6703 - val_accuracy: 0.8318\n",
            "Epoch 16/100\n",
            "411/411 [==============================] - 3s 8ms/step - loss: 0.6504 - accuracy: 0.8373 - val_loss: 0.6351 - val_accuracy: 0.8419\n",
            "Epoch 17/100\n",
            "411/411 [==============================] - 3s 8ms/step - loss: 0.6183 - accuracy: 0.8431 - val_loss: 0.6057 - val_accuracy: 0.8466\n",
            "Epoch 18/100\n",
            "411/411 [==============================] - 3s 8ms/step - loss: 0.5909 - accuracy: 0.8489 - val_loss: 0.5814 - val_accuracy: 0.8498\n",
            "Epoch 19/100\n",
            "411/411 [==============================] - 3s 8ms/step - loss: 0.5671 - accuracy: 0.8538 - val_loss: 0.5590 - val_accuracy: 0.8554\n",
            "Epoch 20/100\n",
            "411/411 [==============================] - 3s 7ms/step - loss: 0.5464 - accuracy: 0.8585 - val_loss: 0.5396 - val_accuracy: 0.8591\n",
            "Epoch 21/100\n",
            "411/411 [==============================] - 3s 7ms/step - loss: 0.5279 - accuracy: 0.8622 - val_loss: 0.5231 - val_accuracy: 0.8617\n",
            "Epoch 22/100\n",
            "411/411 [==============================] - 3s 7ms/step - loss: 0.5115 - accuracy: 0.8655 - val_loss: 0.5080 - val_accuracy: 0.8672\n",
            "Epoch 23/100\n",
            "411/411 [==============================] - 3s 8ms/step - loss: 0.4969 - accuracy: 0.8692 - val_loss: 0.4947 - val_accuracy: 0.8693\n",
            "Epoch 24/100\n",
            "411/411 [==============================] - 3s 8ms/step - loss: 0.4836 - accuracy: 0.8724 - val_loss: 0.4820 - val_accuracy: 0.8721\n",
            "Epoch 25/100\n",
            "411/411 [==============================] - 3s 8ms/step - loss: 0.4718 - accuracy: 0.8745 - val_loss: 0.4702 - val_accuracy: 0.8742\n",
            "Epoch 26/100\n",
            "411/411 [==============================] - 3s 8ms/step - loss: 0.4610 - accuracy: 0.8776 - val_loss: 0.4601 - val_accuracy: 0.8767\n",
            "Epoch 27/100\n",
            "411/411 [==============================] - 3s 8ms/step - loss: 0.4510 - accuracy: 0.8798 - val_loss: 0.4512 - val_accuracy: 0.8786\n",
            "Epoch 28/100\n",
            "411/411 [==============================] - 3s 8ms/step - loss: 0.4420 - accuracy: 0.8821 - val_loss: 0.4431 - val_accuracy: 0.8797\n",
            "Epoch 29/100\n",
            "411/411 [==============================] - 3s 8ms/step - loss: 0.4338 - accuracy: 0.8838 - val_loss: 0.4348 - val_accuracy: 0.8805\n",
            "Epoch 30/100\n",
            "411/411 [==============================] - 3s 8ms/step - loss: 0.4262 - accuracy: 0.8854 - val_loss: 0.4280 - val_accuracy: 0.8831\n",
            "Epoch 31/100\n",
            "411/411 [==============================] - 4s 10ms/step - loss: 0.4191 - accuracy: 0.8868 - val_loss: 0.4210 - val_accuracy: 0.8842\n",
            "Epoch 32/100\n",
            "411/411 [==============================] - 4s 9ms/step - loss: 0.4126 - accuracy: 0.8875 - val_loss: 0.4151 - val_accuracy: 0.8865\n",
            "Epoch 33/100\n",
            "411/411 [==============================] - 3s 8ms/step - loss: 0.4065 - accuracy: 0.8891 - val_loss: 0.4092 - val_accuracy: 0.8869\n",
            "Epoch 34/100\n",
            "411/411 [==============================] - 3s 8ms/step - loss: 0.4009 - accuracy: 0.8901 - val_loss: 0.4042 - val_accuracy: 0.8870\n",
            "Epoch 35/100\n",
            "411/411 [==============================] - 3s 8ms/step - loss: 0.3956 - accuracy: 0.8915 - val_loss: 0.3993 - val_accuracy: 0.8891\n",
            "Epoch 36/100\n",
            "411/411 [==============================] - 3s 8ms/step - loss: 0.3907 - accuracy: 0.8924 - val_loss: 0.3947 - val_accuracy: 0.8897\n",
            "Epoch 37/100\n",
            "411/411 [==============================] - 3s 8ms/step - loss: 0.3861 - accuracy: 0.8935 - val_loss: 0.3899 - val_accuracy: 0.8901\n",
            "Epoch 38/100\n",
            "411/411 [==============================] - 3s 8ms/step - loss: 0.3816 - accuracy: 0.8942 - val_loss: 0.3859 - val_accuracy: 0.8913\n",
            "Epoch 39/100\n",
            "411/411 [==============================] - 3s 8ms/step - loss: 0.3776 - accuracy: 0.8949 - val_loss: 0.3822 - val_accuracy: 0.8913\n",
            "Epoch 40/100\n",
            "411/411 [==============================] - 3s 8ms/step - loss: 0.3737 - accuracy: 0.8960 - val_loss: 0.3785 - val_accuracy: 0.8917\n",
            "Epoch 41/100\n",
            "411/411 [==============================] - 3s 8ms/step - loss: 0.3700 - accuracy: 0.8966 - val_loss: 0.3756 - val_accuracy: 0.8920\n",
            "Epoch 42/100\n",
            "411/411 [==============================] - 3s 8ms/step - loss: 0.3666 - accuracy: 0.8977 - val_loss: 0.3720 - val_accuracy: 0.8944\n",
            "Epoch 43/100\n",
            "411/411 [==============================] - 3s 8ms/step - loss: 0.3632 - accuracy: 0.8983 - val_loss: 0.3687 - val_accuracy: 0.8935\n",
            "Epoch 44/100\n",
            "411/411 [==============================] - 3s 8ms/step - loss: 0.3601 - accuracy: 0.8992 - val_loss: 0.3660 - val_accuracy: 0.8939\n",
            "Epoch 45/100\n",
            "411/411 [==============================] - 3s 8ms/step - loss: 0.3571 - accuracy: 0.8998 - val_loss: 0.3631 - val_accuracy: 0.8951\n",
            "Epoch 46/100\n",
            "411/411 [==============================] - 3s 8ms/step - loss: 0.3542 - accuracy: 0.9003 - val_loss: 0.3605 - val_accuracy: 0.8959\n",
            "Epoch 47/100\n",
            "411/411 [==============================] - 3s 8ms/step - loss: 0.3515 - accuracy: 0.9012 - val_loss: 0.3577 - val_accuracy: 0.8965\n",
            "Epoch 48/100\n",
            "411/411 [==============================] - 3s 8ms/step - loss: 0.3487 - accuracy: 0.9018 - val_loss: 0.3552 - val_accuracy: 0.8974\n",
            "Epoch 49/100\n",
            "411/411 [==============================] - 3s 8ms/step - loss: 0.3462 - accuracy: 0.9022 - val_loss: 0.3529 - val_accuracy: 0.8972\n",
            "Epoch 50/100\n",
            "411/411 [==============================] - 3s 8ms/step - loss: 0.3438 - accuracy: 0.9026 - val_loss: 0.3510 - val_accuracy: 0.8973\n",
            "Epoch 51/100\n",
            "411/411 [==============================] - 3s 8ms/step - loss: 0.3414 - accuracy: 0.9034 - val_loss: 0.3487 - val_accuracy: 0.8986\n",
            "Epoch 52/100\n",
            "411/411 [==============================] - 3s 8ms/step - loss: 0.3391 - accuracy: 0.9042 - val_loss: 0.3461 - val_accuracy: 0.8990\n",
            "Epoch 53/100\n",
            "411/411 [==============================] - 3s 8ms/step - loss: 0.3370 - accuracy: 0.9043 - val_loss: 0.3443 - val_accuracy: 0.9000\n",
            "Epoch 54/100\n",
            "411/411 [==============================] - 3s 8ms/step - loss: 0.3348 - accuracy: 0.9053 - val_loss: 0.3427 - val_accuracy: 0.8998\n",
            "Epoch 55/100\n",
            "411/411 [==============================] - 3s 8ms/step - loss: 0.3328 - accuracy: 0.9055 - val_loss: 0.3404 - val_accuracy: 0.9006\n",
            "Epoch 56/100\n",
            "411/411 [==============================] - 3s 8ms/step - loss: 0.3308 - accuracy: 0.9061 - val_loss: 0.3382 - val_accuracy: 0.9014\n",
            "Epoch 57/100\n",
            "411/411 [==============================] - 3s 8ms/step - loss: 0.3288 - accuracy: 0.9061 - val_loss: 0.3367 - val_accuracy: 0.9019\n",
            "Epoch 58/100\n",
            "411/411 [==============================] - 3s 8ms/step - loss: 0.3270 - accuracy: 0.9066 - val_loss: 0.3348 - val_accuracy: 0.9032\n",
            "Epoch 59/100\n",
            "411/411 [==============================] - 4s 10ms/step - loss: 0.3252 - accuracy: 0.9070 - val_loss: 0.3332 - val_accuracy: 0.9023\n",
            "Epoch 60/100\n",
            "411/411 [==============================] - 3s 8ms/step - loss: 0.3234 - accuracy: 0.9076 - val_loss: 0.3317 - val_accuracy: 0.9038\n",
            "Epoch 61/100\n",
            "411/411 [==============================] - 3s 8ms/step - loss: 0.3216 - accuracy: 0.9082 - val_loss: 0.3302 - val_accuracy: 0.9041\n",
            "Epoch 62/100\n",
            "411/411 [==============================] - 3s 8ms/step - loss: 0.3199 - accuracy: 0.9084 - val_loss: 0.3282 - val_accuracy: 0.9033\n",
            "Epoch 63/100\n",
            "411/411 [==============================] - 3s 8ms/step - loss: 0.3184 - accuracy: 0.9086 - val_loss: 0.3269 - val_accuracy: 0.9052\n",
            "Epoch 64/100\n",
            "411/411 [==============================] - 3s 8ms/step - loss: 0.3168 - accuracy: 0.9088 - val_loss: 0.3255 - val_accuracy: 0.9053\n",
            "Epoch 65/100\n",
            "411/411 [==============================] - 3s 8ms/step - loss: 0.3151 - accuracy: 0.9096 - val_loss: 0.3239 - val_accuracy: 0.9059\n",
            "Epoch 66/100\n",
            "411/411 [==============================] - 3s 8ms/step - loss: 0.3137 - accuracy: 0.9098 - val_loss: 0.3222 - val_accuracy: 0.9056\n",
            "Epoch 67/100\n",
            "411/411 [==============================] - 3s 8ms/step - loss: 0.3121 - accuracy: 0.9106 - val_loss: 0.3215 - val_accuracy: 0.9059\n",
            "Epoch 68/100\n",
            "411/411 [==============================] - 3s 8ms/step - loss: 0.3107 - accuracy: 0.9109 - val_loss: 0.3204 - val_accuracy: 0.9061\n",
            "Epoch 69/100\n",
            "411/411 [==============================] - 3s 8ms/step - loss: 0.3093 - accuracy: 0.9116 - val_loss: 0.3186 - val_accuracy: 0.9057\n",
            "Epoch 70/100\n",
            "411/411 [==============================] - 3s 8ms/step - loss: 0.3080 - accuracy: 0.9118 - val_loss: 0.3171 - val_accuracy: 0.9076\n",
            "Epoch 71/100\n",
            "411/411 [==============================] - 3s 8ms/step - loss: 0.3065 - accuracy: 0.9120 - val_loss: 0.3161 - val_accuracy: 0.9075\n",
            "Epoch 72/100\n",
            "411/411 [==============================] - 3s 8ms/step - loss: 0.3052 - accuracy: 0.9124 - val_loss: 0.3147 - val_accuracy: 0.9083\n",
            "Epoch 73/100\n",
            "411/411 [==============================] - 3s 8ms/step - loss: 0.3039 - accuracy: 0.9127 - val_loss: 0.3136 - val_accuracy: 0.9081\n",
            "Epoch 74/100\n",
            "411/411 [==============================] - 3s 8ms/step - loss: 0.3026 - accuracy: 0.9135 - val_loss: 0.3123 - val_accuracy: 0.9076\n",
            "Epoch 75/100\n",
            "411/411 [==============================] - 3s 8ms/step - loss: 0.3014 - accuracy: 0.9134 - val_loss: 0.3113 - val_accuracy: 0.9086\n",
            "Epoch 76/100\n",
            "411/411 [==============================] - 3s 8ms/step - loss: 0.3001 - accuracy: 0.9141 - val_loss: 0.3099 - val_accuracy: 0.9093\n",
            "Epoch 77/100\n",
            "411/411 [==============================] - 3s 8ms/step - loss: 0.2989 - accuracy: 0.9143 - val_loss: 0.3087 - val_accuracy: 0.9095\n",
            "Epoch 78/100\n",
            "411/411 [==============================] - 3s 8ms/step - loss: 0.2978 - accuracy: 0.9144 - val_loss: 0.3074 - val_accuracy: 0.9097\n",
            "Epoch 79/100\n",
            "411/411 [==============================] - 3s 8ms/step - loss: 0.2965 - accuracy: 0.9148 - val_loss: 0.3063 - val_accuracy: 0.9097\n",
            "Epoch 80/100\n",
            "411/411 [==============================] - 3s 8ms/step - loss: 0.2953 - accuracy: 0.9149 - val_loss: 0.3054 - val_accuracy: 0.9104\n",
            "Epoch 81/100\n",
            "411/411 [==============================] - 3s 8ms/step - loss: 0.2942 - accuracy: 0.9158 - val_loss: 0.3043 - val_accuracy: 0.9099\n",
            "Epoch 82/100\n",
            "411/411 [==============================] - 3s 8ms/step - loss: 0.2931 - accuracy: 0.9160 - val_loss: 0.3031 - val_accuracy: 0.9106\n",
            "Epoch 83/100\n",
            "411/411 [==============================] - 3s 8ms/step - loss: 0.2919 - accuracy: 0.9161 - val_loss: 0.3025 - val_accuracy: 0.9102\n",
            "Epoch 84/100\n",
            "411/411 [==============================] - 3s 8ms/step - loss: 0.2909 - accuracy: 0.9165 - val_loss: 0.3013 - val_accuracy: 0.9111\n",
            "Epoch 85/100\n",
            "411/411 [==============================] - 3s 8ms/step - loss: 0.2899 - accuracy: 0.9169 - val_loss: 0.3001 - val_accuracy: 0.9114\n",
            "Epoch 86/100\n",
            "411/411 [==============================] - 3s 8ms/step - loss: 0.2887 - accuracy: 0.9178 - val_loss: 0.2994 - val_accuracy: 0.9112\n",
            "Epoch 87/100\n",
            "411/411 [==============================] - 3s 8ms/step - loss: 0.2877 - accuracy: 0.9175 - val_loss: 0.2982 - val_accuracy: 0.9119\n",
            "Epoch 88/100\n",
            "411/411 [==============================] - 3s 8ms/step - loss: 0.2868 - accuracy: 0.9178 - val_loss: 0.2974 - val_accuracy: 0.9120\n",
            "Epoch 89/100\n",
            "411/411 [==============================] - 3s 8ms/step - loss: 0.2857 - accuracy: 0.9179 - val_loss: 0.2966 - val_accuracy: 0.9122\n",
            "Epoch 90/100\n",
            "411/411 [==============================] - 3s 8ms/step - loss: 0.2848 - accuracy: 0.9187 - val_loss: 0.2958 - val_accuracy: 0.9122\n",
            "Epoch 91/100\n",
            "411/411 [==============================] - 3s 8ms/step - loss: 0.2837 - accuracy: 0.9186 - val_loss: 0.2953 - val_accuracy: 0.9130\n",
            "Epoch 92/100\n",
            "411/411 [==============================] - 3s 8ms/step - loss: 0.2827 - accuracy: 0.9193 - val_loss: 0.2936 - val_accuracy: 0.9133\n",
            "Epoch 93/100\n",
            "411/411 [==============================] - 3s 8ms/step - loss: 0.2818 - accuracy: 0.9192 - val_loss: 0.2927 - val_accuracy: 0.9134\n",
            "Epoch 94/100\n",
            "411/411 [==============================] - 3s 8ms/step - loss: 0.2808 - accuracy: 0.9199 - val_loss: 0.2918 - val_accuracy: 0.9132\n",
            "Epoch 95/100\n",
            "411/411 [==============================] - 3s 8ms/step - loss: 0.2799 - accuracy: 0.9201 - val_loss: 0.2914 - val_accuracy: 0.9143\n",
            "Epoch 96/100\n",
            "411/411 [==============================] - 3s 8ms/step - loss: 0.2790 - accuracy: 0.9202 - val_loss: 0.2911 - val_accuracy: 0.9138\n",
            "Epoch 97/100\n",
            "411/411 [==============================] - 3s 8ms/step - loss: 0.2781 - accuracy: 0.9207 - val_loss: 0.2892 - val_accuracy: 0.9140\n",
            "Epoch 98/100\n",
            "411/411 [==============================] - 3s 8ms/step - loss: 0.2771 - accuracy: 0.9210 - val_loss: 0.2886 - val_accuracy: 0.9141\n",
            "Epoch 99/100\n",
            "411/411 [==============================] - 3s 7ms/step - loss: 0.2762 - accuracy: 0.9210 - val_loss: 0.2878 - val_accuracy: 0.9150\n",
            "Epoch 100/100\n",
            "411/411 [==============================] - 3s 8ms/step - loss: 0.2753 - accuracy: 0.9215 - val_loss: 0.2871 - val_accuracy: 0.9153\n"
          ]
        }
      ]
    },
    {
      "cell_type": "code",
      "source": [
        "print('Evaluation Report')\n",
        "predictions = model.predict(xTest, batch_size=128)\n",
        "print(classification_report(yTest.argmax(axis=1), predictions.argmax(axis=1), target_names=[str(x) for x in lb.classes_]))"
      ],
      "metadata": {
        "colab": {
          "base_uri": "https://localhost:8080/"
        },
        "id": "xlnx7MrHO51x",
        "outputId": "6bb1688e-dafc-4bd2-c408-1f36a402dba4"
      },
      "execution_count": 31,
      "outputs": [
        {
          "output_type": "stream",
          "name": "stdout",
          "text": [
            "Evaluation Report\n",
            "              precision    recall  f1-score   support\n",
            "\n",
            "           0       0.94      0.97      0.95      1695\n",
            "           1       0.94      0.96      0.95      1940\n",
            "           2       0.91      0.90      0.91      1758\n",
            "           3       0.89      0.89      0.89      1733\n",
            "           4       0.90      0.94      0.92      1718\n",
            "           5       0.87      0.86      0.87      1564\n",
            "           6       0.93      0.95      0.94      1762\n",
            "           7       0.94      0.91      0.93      1843\n",
            "           8       0.91      0.87      0.89      1731\n",
            "           9       0.91      0.88      0.89      1756\n",
            "\n",
            "    accuracy                           0.92     17500\n",
            "   macro avg       0.91      0.91      0.91     17500\n",
            "weighted avg       0.92      0.92      0.92     17500\n",
            "\n"
          ]
        }
      ]
    },
    {
      "cell_type": "code",
      "source": [
        "plt.plot(np.arange(0, 100), H.history['loss'], label='losses')\n"
      ],
      "metadata": {
        "colab": {
          "base_uri": "https://localhost:8080/",
          "height": 283
        },
        "id": "RLm45fmfP_nA",
        "outputId": "b6019ea3-6630-4550-9240-9473334e9946"
      },
      "execution_count": 39,
      "outputs": [
        {
          "output_type": "execute_result",
          "data": {
            "text/plain": [
              "[<matplotlib.lines.Line2D at 0x7fe54f817750>]"
            ]
          },
          "metadata": {},
          "execution_count": 39
        },
        {
          "output_type": "display_data",
          "data": {
            "image/png": "[encoded data removed]",
            "text/plain": [
              "<Figure size 432x288 with 1 Axes>"
            ]
          },
          "metadata": {
            "needs_background": "light"
          }
        }
      ]
    }
  ]
}