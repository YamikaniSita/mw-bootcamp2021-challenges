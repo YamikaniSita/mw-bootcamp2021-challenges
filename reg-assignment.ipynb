{
 "cells": [
  {
   "cell_type": "code",
   "execution_count": 2,
   "id": "e134f9df",
   "metadata": {},
   "outputs": [],
   "source": [
    "import pandas as pd\n",
    "import numpy as np\n",
    "from sklearn.linear_model import LinearRegression\n",
    "#from sklearn.cross_validation import train_test_split\n",
    "from sklearn.model_selection import train_test_split\n",
    "from sklearn import metrics\n",
    "import statsmodels.formula.api as smf\n",
    "\n",
    "# visualization\n",
    "import seaborn as sns\n",
    "import matplotlib.pyplot as plt\n",
    "%matplotlib inline"
   ]
  },
  {
   "cell_type": "code",
   "execution_count": 4,
   "id": "09214ec5",
   "metadata": {},
   "outputs": [
    {
     "data": {
      "text/plain": [
       "beer_servings      0\n",
       "spirit_servings    0\n",
       "wine_servings      0\n",
       "dtype: int64"
      ]
     },
     "execution_count": 4,
     "metadata": {},
     "output_type": "execute_result"
    }
   ],
   "source": [
    "data = pd.read_csv('drinks.csv')\n",
    "df = data[['beer_servings', 'spirit_servings', 'wine_servings']]\n",
    "#plt\n",
    "df.isnull().sum()"
   ]
  },
  {
   "cell_type": "code",
   "execution_count": 5,
   "id": "bbc4bf62",
   "metadata": {},
   "outputs": [
    {
     "data": {
      "text/html": [
       "<div>\n",
       "<style scoped>\n",
       "    .dataframe tbody tr th:only-of-type {\n",
       "        vertical-align: middle;\n",
       "    }\n",
       "\n",
       "    .dataframe tbody tr th {\n",
       "        vertical-align: top;\n",
       "    }\n",
       "\n",
       "    .dataframe thead th {\n",
       "        text-align: right;\n",
       "    }\n",
       "</style>\n",
       "<table border=\"1\" class=\"dataframe\">\n",
       "  <thead>\n",
       "    <tr style=\"text-align: right;\">\n",
       "      <th></th>\n",
       "      <th>beer_servings</th>\n",
       "      <th>spirit_servings</th>\n",
       "      <th>wine_servings</th>\n",
       "    </tr>\n",
       "  </thead>\n",
       "  <tbody>\n",
       "    <tr>\n",
       "      <th>0</th>\n",
       "      <td>0</td>\n",
       "      <td>0</td>\n",
       "      <td>0</td>\n",
       "    </tr>\n",
       "    <tr>\n",
       "      <th>1</th>\n",
       "      <td>89</td>\n",
       "      <td>132</td>\n",
       "      <td>54</td>\n",
       "    </tr>\n",
       "    <tr>\n",
       "      <th>2</th>\n",
       "      <td>25</td>\n",
       "      <td>0</td>\n",
       "      <td>14</td>\n",
       "    </tr>\n",
       "    <tr>\n",
       "      <th>3</th>\n",
       "      <td>245</td>\n",
       "      <td>138</td>\n",
       "      <td>312</td>\n",
       "    </tr>\n",
       "    <tr>\n",
       "      <th>4</th>\n",
       "      <td>217</td>\n",
       "      <td>57</td>\n",
       "      <td>45</td>\n",
       "    </tr>\n",
       "  </tbody>\n",
       "</table>\n",
       "</div>"
      ],
      "text/plain": [
       "   beer_servings  spirit_servings  wine_servings\n",
       "0              0                0              0\n",
       "1             89              132             54\n",
       "2             25                0             14\n",
       "3            245              138            312\n",
       "4            217               57             45"
      ]
     },
     "execution_count": 5,
     "metadata": {},
     "output_type": "execute_result"
    }
   ],
   "source": [
    "df.head()"
   ]
  },
  {
   "cell_type": "code",
   "execution_count": 6,
   "id": "76fa7a80",
   "metadata": {},
   "outputs": [
    {
     "data": {
      "text/html": [
       "<div>\n",
       "<style scoped>\n",
       "    .dataframe tbody tr th:only-of-type {\n",
       "        vertical-align: middle;\n",
       "    }\n",
       "\n",
       "    .dataframe tbody tr th {\n",
       "        vertical-align: top;\n",
       "    }\n",
       "\n",
       "    .dataframe thead th {\n",
       "        text-align: right;\n",
       "    }\n",
       "</style>\n",
       "<table border=\"1\" class=\"dataframe\">\n",
       "  <thead>\n",
       "    <tr style=\"text-align: right;\">\n",
       "      <th></th>\n",
       "      <th>beer_servings</th>\n",
       "      <th>spirit_servings</th>\n",
       "      <th>wine_servings</th>\n",
       "    </tr>\n",
       "  </thead>\n",
       "  <tbody>\n",
       "    <tr>\n",
       "      <th>count</th>\n",
       "      <td>193.000000</td>\n",
       "      <td>193.000000</td>\n",
       "      <td>193.000000</td>\n",
       "    </tr>\n",
       "    <tr>\n",
       "      <th>mean</th>\n",
       "      <td>106.160622</td>\n",
       "      <td>80.994819</td>\n",
       "      <td>49.450777</td>\n",
       "    </tr>\n",
       "    <tr>\n",
       "      <th>std</th>\n",
       "      <td>101.143103</td>\n",
       "      <td>88.284312</td>\n",
       "      <td>79.697598</td>\n",
       "    </tr>\n",
       "    <tr>\n",
       "      <th>min</th>\n",
       "      <td>0.000000</td>\n",
       "      <td>0.000000</td>\n",
       "      <td>0.000000</td>\n",
       "    </tr>\n",
       "    <tr>\n",
       "      <th>25%</th>\n",
       "      <td>20.000000</td>\n",
       "      <td>4.000000</td>\n",
       "      <td>1.000000</td>\n",
       "    </tr>\n",
       "    <tr>\n",
       "      <th>50%</th>\n",
       "      <td>76.000000</td>\n",
       "      <td>56.000000</td>\n",
       "      <td>8.000000</td>\n",
       "    </tr>\n",
       "    <tr>\n",
       "      <th>75%</th>\n",
       "      <td>188.000000</td>\n",
       "      <td>128.000000</td>\n",
       "      <td>59.000000</td>\n",
       "    </tr>\n",
       "    <tr>\n",
       "      <th>max</th>\n",
       "      <td>376.000000</td>\n",
       "      <td>438.000000</td>\n",
       "      <td>370.000000</td>\n",
       "    </tr>\n",
       "  </tbody>\n",
       "</table>\n",
       "</div>"
      ],
      "text/plain": [
       "       beer_servings  spirit_servings  wine_servings\n",
       "count     193.000000       193.000000     193.000000\n",
       "mean      106.160622        80.994819      49.450777\n",
       "std       101.143103        88.284312      79.697598\n",
       "min         0.000000         0.000000       0.000000\n",
       "25%        20.000000         4.000000       1.000000\n",
       "50%        76.000000        56.000000       8.000000\n",
       "75%       188.000000       128.000000      59.000000\n",
       "max       376.000000       438.000000     370.000000"
      ]
     },
     "execution_count": 6,
     "metadata": {},
     "output_type": "execute_result"
    }
   ],
   "source": [
    "df.describe()"
   ]
  },
  {
   "cell_type": "code",
   "execution_count": 7,
   "id": "916740c4",
   "metadata": {},
   "outputs": [
    {
     "data": {
      "text/plain": [
       "beer_servings      int64\n",
       "spirit_servings    int64\n",
       "wine_servings      int64\n",
       "dtype: object"
      ]
     },
     "execution_count": 7,
     "metadata": {},
     "output_type": "execute_result"
    }
   ],
   "source": [
    "df.dtypes"
   ]
  },
  {
   "cell_type": "code",
   "execution_count": 11,
   "id": "f0abf4be",
   "metadata": {},
   "outputs": [
    {
     "data": {
      "image/png": "[encoded data removed]",
      "text/plain": [
       "<Figure size 432x288 with 2 Axes>"
      ]
     },
     "metadata": {
      "needs_background": "light"
     },
     "output_type": "display_data"
    }
   ],
   "source": [
    "#plt.plot(df['beer_servings'])\n",
    "#plt.plot(df['spirit_servings'])\n",
    "#plt.plot(df['wine_servings'], linestyle='--')\n",
    "l = ['spirit_servings', 'beer_servings']\n",
    "for i in range(1, 3):\n",
    "    plt.subplot(1, 2, i)\n",
    "    plt.plot(df[l[i-1]])\n",
    "\n",
    "#seems there is is some correlation btwn beer servings and wine servings-lets see"
   ]
  },
  {
   "cell_type": "code",
   "execution_count": 45,
   "id": "eb08dd0f",
   "metadata": {},
   "outputs": [
    {
     "data": {
      "text/plain": [
       "Intercept          63.585956\n",
       "spirit_servings     0.525647\n",
       "dtype: float64"
      ]
     },
     "execution_count": 45,
     "metadata": {},
     "output_type": "execute_result"
    }
   ],
   "source": [
    "#i try to predict beer servings in a country using linear regression\n",
    "beer_model = smf.ols(formula = 'beer_servings ~ spirit_servings', data = df).fit()\n",
    "beer_model.params"
   ]
  },
  {
   "cell_type": "code",
   "execution_count": 52,
   "id": "9371bb75",
   "metadata": {},
   "outputs": [
    {
     "data": {
      "text/plain": [
       "0    93.547823\n",
       "dtype: float64"
      ]
     },
     "execution_count": 52,
     "metadata": {},
     "output_type": "execute_result"
    }
   ],
   "source": [
    "beer_model.predict(pd.DataFrame({'spirit_servings': [57]}))"
   ]
  },
  {
   "cell_type": "code",
   "execution_count": 65,
   "id": "93cb6798",
   "metadata": {},
   "outputs": [
    {
     "data": {
      "text/plain": [
       "<matplotlib.collections.PathCollection at 0x260278a9760>"
      ]
     },
     "execution_count": 65,
     "metadata": {},
     "output_type": "execute_result"
    },
    {
     "data": {
      "image/png": "[encoded data removed]",
      "text/plain": [
       "<Figure size 432x288 with 1 Axes>"
      ]
     },
     "metadata": {
      "needs_background": "light"
     },
     "output_type": "display_data"
    }
   ],
   "source": [
    "#scatter to show relationship\n",
    "plt.scatter(df['spirit_servings'], df['beer_servings'], label='Spirit Servings by Beer Servings')"
   ]
  },
  {
   "cell_type": "code",
   "execution_count": 51,
   "id": "23b1c423",
   "metadata": {
    "scrolled": true
   },
   "outputs": [
    {
     "data": {
      "text/plain": [
       "Intercept          1.229379e-11\n",
       "spirit_servings    1.938650e-11\n",
       "dtype: float64"
      ]
     },
     "execution_count": 51,
     "metadata": {},
     "output_type": "execute_result"
    }
   ],
   "source": [
    "beer_model.pvalues"
   ]
  },
  {
   "cell_type": "code",
   "execution_count": 54,
   "id": "a2f01047",
   "metadata": {},
   "outputs": [
    {
     "data": {
      "text/plain": [
       "Intercept        73.076757\n",
       "wine_servings     0.669026\n",
       "dtype: float64"
      ]
     },
     "execution_count": 54,
     "metadata": {},
     "output_type": "execute_result"
    }
   ],
   "source": [
    "wine_model = smf.ols(formula='beer_servings ~ wine_servings', data=df).fit()\n",
    "wine_model.params"
   ]
  },
  {
   "cell_type": "code",
   "execution_count": 61,
   "id": "60674d19",
   "metadata": {},
   "outputs": [
    {
     "data": {
      "text/plain": [
       "0    281.812928\n",
       "dtype: float64"
      ]
     },
     "execution_count": 61,
     "metadata": {},
     "output_type": "execute_result"
    }
   ],
   "source": [
    "wine_model.predict(pd.DataFrame({'wine_servings':[312]}))"
   ]
  },
  {
   "cell_type": "code",
   "execution_count": 66,
   "id": "04e5946a",
   "metadata": {},
   "outputs": [
    {
     "data": {
      "text/html": [
       "<div>\n",
       "<style scoped>\n",
       "    .dataframe tbody tr th:only-of-type {\n",
       "        vertical-align: middle;\n",
       "    }\n",
       "\n",
       "    .dataframe tbody tr th {\n",
       "        vertical-align: top;\n",
       "    }\n",
       "\n",
       "    .dataframe thead th {\n",
       "        text-align: right;\n",
       "    }\n",
       "</style>\n",
       "<table border=\"1\" class=\"dataframe\">\n",
       "  <thead>\n",
       "    <tr style=\"text-align: right;\">\n",
       "      <th></th>\n",
       "      <th>0</th>\n",
       "      <th>1</th>\n",
       "    </tr>\n",
       "  </thead>\n",
       "  <tbody>\n",
       "    <tr>\n",
       "      <th>Intercept</th>\n",
       "      <td>58.667744</td>\n",
       "      <td>87.485769</td>\n",
       "    </tr>\n",
       "    <tr>\n",
       "      <th>wine_servings</th>\n",
       "      <td>0.515112</td>\n",
       "      <td>0.822940</td>\n",
       "    </tr>\n",
       "  </tbody>\n",
       "</table>\n",
       "</div>"
      ],
      "text/plain": [
       "                       0          1\n",
       "Intercept      58.667744  87.485769\n",
       "wine_servings   0.515112   0.822940"
      ]
     },
     "execution_count": 66,
     "metadata": {},
     "output_type": "execute_result"
    }
   ],
   "source": [
    "wine_model.conf_int()"
   ]
  },
  {
   "cell_type": "code",
   "execution_count": 71,
   "id": "d23e99dd",
   "metadata": {},
   "outputs": [
    {
     "data": {
      "text/plain": [
       "Intercept          43.252971\n",
       "wine_servings       0.577514\n",
       "spirit_servings     0.424091\n",
       "dtype: float64"
      ]
     },
     "execution_count": 71,
     "metadata": {},
     "output_type": "execute_result"
    }
   ],
   "source": [
    "multiple_regression = smf.ols(formula='beer_servings ~ wine_servings + spirit_servings', data=df).fit()\n",
    "multiple_regression.params"
   ]
  },
  {
   "cell_type": "code",
   "execution_count": 72,
   "id": "55f3e417",
   "metadata": {},
   "outputs": [
    {
     "data": {
      "text/plain": [
       "0.4097390807089717"
      ]
     },
     "execution_count": 72,
     "metadata": {},
     "output_type": "execute_result"
    }
   ],
   "source": [
    "#how the models fit\n",
    "multiple_regression.rsquared"
   ]
  },
  {
   "cell_type": "code",
   "execution_count": 73,
   "id": "b4cbf465",
   "metadata": {},
   "outputs": [
    {
     "data": {
      "text/plain": [
       "0.21051475926653018"
      ]
     },
     "execution_count": 73,
     "metadata": {},
     "output_type": "execute_result"
    }
   ],
   "source": [
    "beer_model.rsquared"
   ]
  },
  {
   "cell_type": "code",
   "execution_count": 74,
   "id": "e887c4ab",
   "metadata": {},
   "outputs": [
    {
     "data": {
      "text/plain": [
       "0.27790999443453324"
      ]
     },
     "execution_count": 74,
     "metadata": {},
     "output_type": "execute_result"
    }
   ],
   "source": [
    "wine_model.rsquared"
   ]
  },
  {
   "cell_type": "code",
   "execution_count": 75,
   "id": "f5d804ad",
   "metadata": {},
   "outputs": [],
   "source": [
    "#so in conclusion the multiple regression is better"
   ]
  },
  {
   "cell_type": "code",
   "execution_count": 26,
   "id": "c3e15a97",
   "metadata": {},
   "outputs": [
    {
     "name": "stderr",
     "output_type": "stream",
     "text": [
      "C:\\Users\\Yamikani\\anaconda3\\lib\\site-packages\\pandas\\core\\frame.py:4308: SettingWithCopyWarning: \n",
      "A value is trying to be set on a copy of a slice from a DataFrame\n",
      "\n",
      "See the caveats in the documentation: https://pandas.pydata.org/pandas-docs/stable/user_guide/indexing.html#returning-a-view-versus-a-copy\n",
      "  return super().drop(\n"
     ]
    },
    {
     "data": {
      "text/plain": [
       "0      AS\n",
       "1      EU\n",
       "2      AF\n",
       "3      EU\n",
       "4      AF\n",
       "       ..\n",
       "188    SA\n",
       "189    AS\n",
       "190    AS\n",
       "191    AF\n",
       "192    AF\n",
       "Name: continent, Length: 170, dtype: object"
      ]
     },
     "execution_count": 26,
     "metadata": {},
     "output_type": "execute_result"
    }
   ],
   "source": [
    "#predict continent by alcohol consumption using neural networks\n",
    "final_df = data.loc[data['continent'].isna() == False]\n",
    "final_df.drop(['country'], axis=1, inplace=True)\n",
    "X = final_df.drop(['continent'], axis=1)\n",
    "y = final_df['continent']"
   ]
  },
  {
   "cell_type": "code",
   "execution_count": 27,
   "id": "1bf2fa9f",
   "metadata": {},
   "outputs": [
    {
     "data": {
      "text/plain": [
       "array([1, 2, 0, 2, 0, 4, 2, 3, 2, 2, 1, 1, 2, 2, 0, 1, 4, 2, 0, 4, 1, 2,\n",
       "       0, 0, 0, 0, 1, 0, 0, 0, 4, 1, 4, 0, 0, 3, 2, 2, 2, 1, 0, 2, 0, 4,\n",
       "       0, 0, 0, 2, 0, 3, 2, 2, 0, 0, 2, 2, 0, 2, 0, 0, 4, 2, 2, 1, 1, 1,\n",
       "       1, 2, 1, 2, 1, 1, 1, 0, 3, 1, 1, 1, 2, 1, 0, 0, 0, 2, 2, 0, 0, 1,\n",
       "       1, 0, 2, 3, 0, 0, 3, 2, 1, 2, 0, 0, 1, 0, 3, 1, 2, 3, 0, 0, 3, 2,\n",
       "       1, 1, 3, 3, 4, 4, 1, 2, 2, 1, 1, 2, 2, 1, 0, 3, 2, 0, 1, 0, 2, 0,\n",
       "       0, 1, 2, 2, 3, 0, 0, 2, 1, 0, 4, 0, 2, 2, 1, 1, 1, 2, 1, 0, 3, 0,\n",
       "       1, 1, 3, 0, 2, 1, 2, 0, 4, 1, 3, 4, 1, 1, 0, 0])"
      ]
     },
     "execution_count": 27,
     "metadata": {},
     "output_type": "execute_result"
    }
   ],
   "source": [
    "#transform y to binary\n",
    "from sklearn.preprocessing import LabelEncoder\n",
    "enc = LabelEncoder()\n",
    "y = enc.fit_transform(y)"
   ]
  },
  {
   "cell_type": "code",
   "execution_count": 34,
   "id": "e5804e75",
   "metadata": {},
   "outputs": [],
   "source": [
    "#split to training data, test\n",
    "from sklearn.model_selection import train_test_split\n",
    "\n",
    "xtrain, xtest, ytrain, ytest = train_test_split(X, y, test_size=0.3, random_state=1)"
   ]
  },
  {
   "cell_type": "code",
   "execution_count": 35,
   "id": "7522e71e",
   "metadata": {},
   "outputs": [],
   "source": [
    "from sklearn.preprocessing import StandardScaler\n",
    "sc = StandardScaler()\n",
    "xtrain = sc.fit_transform(xtrain)\n",
    "xtest = sc.transform(xtest)"
   ]
  },
  {
   "cell_type": "code",
   "execution_count": 1,
   "id": "34b2bc00",
   "metadata": {},
   "outputs": [],
   "source": [
    "from sklearn.neural_network import MLPClassifier\n",
    "clf = MLPClassifier(solver='lbfgs', alpha=1e-5, hidden_layer_sizes=(2, 2), random_state=1)\n"
   ]
  },
  {
   "cell_type": "code",
   "execution_count": 47,
   "id": "f33c2584",
   "metadata": {},
   "outputs": [
    {
     "name": "stderr",
     "output_type": "stream",
     "text": [
      "C:\\Users\\Yamikani\\anaconda3\\lib\\site-packages\\sklearn\\neural_network\\_multilayer_perceptron.py:500: ConvergenceWarning: lbfgs failed to converge (status=1):\n",
      "STOP: TOTAL NO. of ITERATIONS REACHED LIMIT.\n",
      "\n",
      "Increase the number of iterations (max_iter) or scale the data as shown in:\n",
      "    https://scikit-learn.org/stable/modules/preprocessing.html\n",
      "  self.n_iter_ = _check_optimize_result(\"lbfgs\", opt_res, self.max_iter)\n"
     ]
    },
    {
     "data": {
      "text/plain": [
       "MLPClassifier(alpha=1e-05, hidden_layer_sizes=(10, 5, 2), random_state=1,\n",
       "              solver='lbfgs')"
      ]
     },
     "execution_count": 47,
     "metadata": {},
     "output_type": "execute_result"
    }
   ],
   "source": [
    "clf.fit(xtrain, ytrain)"
   ]
  },
  {
   "cell_type": "code",
   "execution_count": 48,
   "id": "42e17c13",
   "metadata": {},
   "outputs": [
    {
     "data": {
      "text/plain": [
       "0.5490196078431373"
      ]
     },
     "execution_count": 48,
     "metadata": {},
     "output_type": "execute_result"
    }
   ],
   "source": [
    "clf.score(xtest, ytest)"
   ]
  }
 ],
 "metadata": {
  "kernelspec": {
   "display_name": "Python 3",
   "language": "python",
   "name": "python3"
  },
  "language_info": {
   "codemirror_mode": {
    "name": "ipython",
    "version": 3
   },
   "file_extension": ".py",
   "mimetype": "text/x-python",
   "name": "python",
   "nbconvert_exporter": "python",
   "pygments_lexer": "ipython3",
   "version": "3.8.8"
  }
 },
 "nbformat": 4,
 "nbformat_minor": 5
}
