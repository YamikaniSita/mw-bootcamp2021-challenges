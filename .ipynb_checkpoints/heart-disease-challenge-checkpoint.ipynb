{
 "cells": [
  {
   "cell_type": "markdown",
   "id": "786adf82",
   "metadata": {},
   "source": [
    "## Brief Description\n",
    "> I start with prepreprocessing by removing null value sets from the dataset\n",
    "> Then I build a neural network with 10, 2 hidden layers all features are used in this i get a score of 68% and 10-fold accuracy of 0.5183\n",
    "> I then build a model with all the features as well using Support vector machine algotithm the score increases to 80% and 10-fold accuracy of 0.776\n",
    "> I then build an SVM of only features with high coefficients(feature importance) the score rises to 82%\n"
   ]
  },
  {
   "cell_type": "code",
   "execution_count": 1,
   "id": "4458d566",
   "metadata": {},
   "outputs": [],
   "source": [
    "import pandas as pd\n",
    "import numpy as np\n",
    "from matplotlib import pyplot as plt\n",
    "\n",
    "data_frame = pd.read_csv('challenge_heart_data_27Oct2021.csv')\n",
    "#rename rows\n",
    "data_frame.columns = ['id', 'age', 'sex', 'chest_pain_types', 'resting_blood_pressure', 'serum_cholesterol', 'fasting_blood_sugar',\n",
    "               'resting_ECG', 'max_heart_rate', 'exercise_induced_angina', 'depression_induced_by_exercise', 'peak_exercise_ST',\n",
    "               'flouroscopy_colored_major_vessels', 'thalassemia', 'diagnosis', 'survey_day', 'city', 'region', 'work']"
   ]
  },
  {
   "cell_type": "code",
   "execution_count": 2,
   "id": "5c53fb3d",
   "metadata": {},
   "outputs": [
    {
     "data": {
      "text/html": [
       "<div>\n",
       "<style scoped>\n",
       "    .dataframe tbody tr th:only-of-type {\n",
       "        vertical-align: middle;\n",
       "    }\n",
       "\n",
       "    .dataframe tbody tr th {\n",
       "        vertical-align: top;\n",
       "    }\n",
       "\n",
       "    .dataframe thead th {\n",
       "        text-align: right;\n",
       "    }\n",
       "</style>\n",
       "<table border=\"1\" class=\"dataframe\">\n",
       "  <thead>\n",
       "    <tr style=\"text-align: right;\">\n",
       "      <th></th>\n",
       "      <th>age</th>\n",
       "      <th>sex</th>\n",
       "      <th>chest_pain_types</th>\n",
       "      <th>resting_blood_pressure</th>\n",
       "      <th>serum_cholesterol</th>\n",
       "      <th>fasting_blood_sugar</th>\n",
       "      <th>resting_ECG</th>\n",
       "      <th>max_heart_rate</th>\n",
       "      <th>exercise_induced_angina</th>\n",
       "      <th>depression_induced_by_exercise</th>\n",
       "      <th>peak_exercise_ST</th>\n",
       "      <th>flouroscopy_colored_major_vessels</th>\n",
       "      <th>thalassemia</th>\n",
       "      <th>diagnosis</th>\n",
       "      <th>survey_day</th>\n",
       "      <th>work</th>\n",
       "    </tr>\n",
       "  </thead>\n",
       "  <tbody>\n",
       "    <tr>\n",
       "      <th>count</th>\n",
       "      <td>920.000000</td>\n",
       "      <td>920.000000</td>\n",
       "      <td>920.000000</td>\n",
       "      <td>861.000000</td>\n",
       "      <td>890.000000</td>\n",
       "      <td>830.000000</td>\n",
       "      <td>918.000000</td>\n",
       "      <td>865.000000</td>\n",
       "      <td>865.000000</td>\n",
       "      <td>858.000000</td>\n",
       "      <td>611.000000</td>\n",
       "      <td>309.000000</td>\n",
       "      <td>434.000000</td>\n",
       "      <td>906.000000</td>\n",
       "      <td>920.000000</td>\n",
       "      <td>920.000000</td>\n",
       "    </tr>\n",
       "    <tr>\n",
       "      <th>mean</th>\n",
       "      <td>53.510870</td>\n",
       "      <td>0.789130</td>\n",
       "      <td>3.250000</td>\n",
       "      <td>132.132404</td>\n",
       "      <td>199.130337</td>\n",
       "      <td>0.166265</td>\n",
       "      <td>0.604575</td>\n",
       "      <td>137.545665</td>\n",
       "      <td>0.389595</td>\n",
       "      <td>3.913403</td>\n",
       "      <td>1.770867</td>\n",
       "      <td>0.676375</td>\n",
       "      <td>5.087558</td>\n",
       "      <td>0.607064</td>\n",
       "      <td>6.005435</td>\n",
       "      <td>0.560870</td>\n",
       "    </tr>\n",
       "    <tr>\n",
       "      <th>std</th>\n",
       "      <td>9.424685</td>\n",
       "      <td>0.408148</td>\n",
       "      <td>0.930969</td>\n",
       "      <td>19.066070</td>\n",
       "      <td>110.780810</td>\n",
       "      <td>0.372543</td>\n",
       "      <td>0.805827</td>\n",
       "      <td>25.926276</td>\n",
       "      <td>0.487941</td>\n",
       "      <td>7.837660</td>\n",
       "      <td>0.619256</td>\n",
       "      <td>0.935653</td>\n",
       "      <td>1.919075</td>\n",
       "      <td>0.649789</td>\n",
       "      <td>2.894777</td>\n",
       "      <td>0.496551</td>\n",
       "    </tr>\n",
       "    <tr>\n",
       "      <th>min</th>\n",
       "      <td>28.000000</td>\n",
       "      <td>0.000000</td>\n",
       "      <td>1.000000</td>\n",
       "      <td>0.000000</td>\n",
       "      <td>0.000000</td>\n",
       "      <td>0.000000</td>\n",
       "      <td>0.000000</td>\n",
       "      <td>60.000000</td>\n",
       "      <td>0.000000</td>\n",
       "      <td>-2.600000</td>\n",
       "      <td>1.000000</td>\n",
       "      <td>0.000000</td>\n",
       "      <td>3.000000</td>\n",
       "      <td>0.000000</td>\n",
       "      <td>1.000000</td>\n",
       "      <td>0.000000</td>\n",
       "    </tr>\n",
       "    <tr>\n",
       "      <th>25%</th>\n",
       "      <td>47.000000</td>\n",
       "      <td>1.000000</td>\n",
       "      <td>3.000000</td>\n",
       "      <td>120.000000</td>\n",
       "      <td>175.000000</td>\n",
       "      <td>0.000000</td>\n",
       "      <td>0.000000</td>\n",
       "      <td>120.000000</td>\n",
       "      <td>0.000000</td>\n",
       "      <td>0.000000</td>\n",
       "      <td>1.000000</td>\n",
       "      <td>0.000000</td>\n",
       "      <td>3.000000</td>\n",
       "      <td>0.000000</td>\n",
       "      <td>4.000000</td>\n",
       "      <td>0.000000</td>\n",
       "    </tr>\n",
       "    <tr>\n",
       "      <th>50%</th>\n",
       "      <td>54.000000</td>\n",
       "      <td>1.000000</td>\n",
       "      <td>4.000000</td>\n",
       "      <td>130.000000</td>\n",
       "      <td>223.000000</td>\n",
       "      <td>0.000000</td>\n",
       "      <td>0.000000</td>\n",
       "      <td>140.000000</td>\n",
       "      <td>0.000000</td>\n",
       "      <td>1.000000</td>\n",
       "      <td>2.000000</td>\n",
       "      <td>0.000000</td>\n",
       "      <td>6.000000</td>\n",
       "      <td>1.000000</td>\n",
       "      <td>8.000000</td>\n",
       "      <td>1.000000</td>\n",
       "    </tr>\n",
       "    <tr>\n",
       "      <th>75%</th>\n",
       "      <td>60.000000</td>\n",
       "      <td>1.000000</td>\n",
       "      <td>4.000000</td>\n",
       "      <td>140.000000</td>\n",
       "      <td>268.000000</td>\n",
       "      <td>0.000000</td>\n",
       "      <td>1.000000</td>\n",
       "      <td>157.000000</td>\n",
       "      <td>1.000000</td>\n",
       "      <td>2.950000</td>\n",
       "      <td>2.000000</td>\n",
       "      <td>1.000000</td>\n",
       "      <td>7.000000</td>\n",
       "      <td>1.000000</td>\n",
       "      <td>8.000000</td>\n",
       "      <td>1.000000</td>\n",
       "    </tr>\n",
       "    <tr>\n",
       "      <th>max</th>\n",
       "      <td>77.000000</td>\n",
       "      <td>1.000000</td>\n",
       "      <td>4.000000</td>\n",
       "      <td>200.000000</td>\n",
       "      <td>603.000000</td>\n",
       "      <td>1.000000</td>\n",
       "      <td>2.000000</td>\n",
       "      <td>202.000000</td>\n",
       "      <td>1.000000</td>\n",
       "      <td>62.000000</td>\n",
       "      <td>3.000000</td>\n",
       "      <td>3.000000</td>\n",
       "      <td>7.000000</td>\n",
       "      <td>4.000000</td>\n",
       "      <td>10.000000</td>\n",
       "      <td>1.000000</td>\n",
       "    </tr>\n",
       "  </tbody>\n",
       "</table>\n",
       "</div>"
      ],
      "text/plain": [
       "              age         sex  chest_pain_types  resting_blood_pressure  \\\n",
       "count  920.000000  920.000000        920.000000              861.000000   \n",
       "mean    53.510870    0.789130          3.250000              132.132404   \n",
       "std      9.424685    0.408148          0.930969               19.066070   \n",
       "min     28.000000    0.000000          1.000000                0.000000   \n",
       "25%     47.000000    1.000000          3.000000              120.000000   \n",
       "50%     54.000000    1.000000          4.000000              130.000000   \n",
       "75%     60.000000    1.000000          4.000000              140.000000   \n",
       "max     77.000000    1.000000          4.000000              200.000000   \n",
       "\n",
       "       serum_cholesterol  fasting_blood_sugar  resting_ECG  max_heart_rate  \\\n",
       "count         890.000000           830.000000   918.000000      865.000000   \n",
       "mean          199.130337             0.166265     0.604575      137.545665   \n",
       "std           110.780810             0.372543     0.805827       25.926276   \n",
       "min             0.000000             0.000000     0.000000       60.000000   \n",
       "25%           175.000000             0.000000     0.000000      120.000000   \n",
       "50%           223.000000             0.000000     0.000000      140.000000   \n",
       "75%           268.000000             0.000000     1.000000      157.000000   \n",
       "max           603.000000             1.000000     2.000000      202.000000   \n",
       "\n",
       "       exercise_induced_angina  depression_induced_by_exercise  \\\n",
       "count               865.000000                      858.000000   \n",
       "mean                  0.389595                        3.913403   \n",
       "std                   0.487941                        7.837660   \n",
       "min                   0.000000                       -2.600000   \n",
       "25%                   0.000000                        0.000000   \n",
       "50%                   0.000000                        1.000000   \n",
       "75%                   1.000000                        2.950000   \n",
       "max                   1.000000                       62.000000   \n",
       "\n",
       "       peak_exercise_ST  flouroscopy_colored_major_vessels  thalassemia  \\\n",
       "count        611.000000                         309.000000   434.000000   \n",
       "mean           1.770867                           0.676375     5.087558   \n",
       "std            0.619256                           0.935653     1.919075   \n",
       "min            1.000000                           0.000000     3.000000   \n",
       "25%            1.000000                           0.000000     3.000000   \n",
       "50%            2.000000                           0.000000     6.000000   \n",
       "75%            2.000000                           1.000000     7.000000   \n",
       "max            3.000000                           3.000000     7.000000   \n",
       "\n",
       "        diagnosis  survey_day        work  \n",
       "count  906.000000  920.000000  920.000000  \n",
       "mean     0.607064    6.005435    0.560870  \n",
       "std      0.649789    2.894777    0.496551  \n",
       "min      0.000000    1.000000    0.000000  \n",
       "25%      0.000000    4.000000    0.000000  \n",
       "50%      1.000000    8.000000    1.000000  \n",
       "75%      1.000000    8.000000    1.000000  \n",
       "max      4.000000   10.000000    1.000000  "
      ]
     },
     "execution_count": 2,
     "metadata": {},
     "output_type": "execute_result"
    }
   ],
   "source": [
    "data_frame.describe()#some statistical res"
   ]
  },
  {
   "cell_type": "code",
   "execution_count": 3,
   "id": "0777bd7d",
   "metadata": {},
   "outputs": [],
   "source": [
    "data_frame.dtypes\n",
    "data_frame.isna().sum()\n",
    "#some fields null are not crucial we can drop\n",
    "final_df = data_frame.drop(['id', 'survey_day', 'city', 'region','work'], axis=1)"
   ]
  },
  {
   "cell_type": "code",
   "execution_count": 4,
   "id": "af7b4ab3",
   "metadata": {},
   "outputs": [
    {
     "data": {
      "text/html": [
       "<div>\n",
       "<style scoped>\n",
       "    .dataframe tbody tr th:only-of-type {\n",
       "        vertical-align: middle;\n",
       "    }\n",
       "\n",
       "    .dataframe tbody tr th {\n",
       "        vertical-align: top;\n",
       "    }\n",
       "\n",
       "    .dataframe thead th {\n",
       "        text-align: right;\n",
       "    }\n",
       "</style>\n",
       "<table border=\"1\" class=\"dataframe\">\n",
       "  <thead>\n",
       "    <tr style=\"text-align: right;\">\n",
       "      <th></th>\n",
       "      <th>age</th>\n",
       "      <th>sex</th>\n",
       "      <th>chest_pain_types</th>\n",
       "      <th>resting_blood_pressure</th>\n",
       "      <th>serum_cholesterol</th>\n",
       "      <th>fasting_blood_sugar</th>\n",
       "      <th>resting_ECG</th>\n",
       "      <th>max_heart_rate</th>\n",
       "      <th>exercise_induced_angina</th>\n",
       "      <th>depression_induced_by_exercise</th>\n",
       "      <th>peak_exercise_ST</th>\n",
       "      <th>flouroscopy_colored_major_vessels</th>\n",
       "      <th>thalassemia</th>\n",
       "      <th>diagnosis</th>\n",
       "    </tr>\n",
       "  </thead>\n",
       "  <tbody>\n",
       "    <tr>\n",
       "      <th>1</th>\n",
       "      <td>45.0</td>\n",
       "      <td>0.0</td>\n",
       "      <td>2.0</td>\n",
       "      <td>130.0</td>\n",
       "      <td>234.0</td>\n",
       "      <td>0.0</td>\n",
       "      <td>2.0</td>\n",
       "      <td>175.0</td>\n",
       "      <td>0.0</td>\n",
       "      <td>6.0</td>\n",
       "      <td>2.0</td>\n",
       "      <td>0.0</td>\n",
       "      <td>3.0</td>\n",
       "      <td>0.0</td>\n",
       "    </tr>\n",
       "    <tr>\n",
       "      <th>4</th>\n",
       "      <td>47.0</td>\n",
       "      <td>1.0</td>\n",
       "      <td>4.0</td>\n",
       "      <td>110.0</td>\n",
       "      <td>275.0</td>\n",
       "      <td>0.0</td>\n",
       "      <td>2.0</td>\n",
       "      <td>118.0</td>\n",
       "      <td>1.0</td>\n",
       "      <td>1.0</td>\n",
       "      <td>2.0</td>\n",
       "      <td>1.0</td>\n",
       "      <td>3.0</td>\n",
       "      <td>1.0</td>\n",
       "    </tr>\n",
       "    <tr>\n",
       "      <th>6</th>\n",
       "      <td>40.0</td>\n",
       "      <td>1.0</td>\n",
       "      <td>4.0</td>\n",
       "      <td>110.0</td>\n",
       "      <td>167.0</td>\n",
       "      <td>0.0</td>\n",
       "      <td>2.0</td>\n",
       "      <td>114.0</td>\n",
       "      <td>1.0</td>\n",
       "      <td>2.0</td>\n",
       "      <td>2.0</td>\n",
       "      <td>0.0</td>\n",
       "      <td>7.0</td>\n",
       "      <td>0.0</td>\n",
       "    </tr>\n",
       "    <tr>\n",
       "      <th>7</th>\n",
       "      <td>57.0</td>\n",
       "      <td>1.0</td>\n",
       "      <td>4.0</td>\n",
       "      <td>165.0</td>\n",
       "      <td>289.0</td>\n",
       "      <td>1.0</td>\n",
       "      <td>2.0</td>\n",
       "      <td>124.0</td>\n",
       "      <td>0.0</td>\n",
       "      <td>1.0</td>\n",
       "      <td>2.0</td>\n",
       "      <td>3.0</td>\n",
       "      <td>7.0</td>\n",
       "      <td>0.0</td>\n",
       "    </tr>\n",
       "    <tr>\n",
       "      <th>9</th>\n",
       "      <td>66.0</td>\n",
       "      <td>0.0</td>\n",
       "      <td>3.0</td>\n",
       "      <td>146.0</td>\n",
       "      <td>278.0</td>\n",
       "      <td>0.0</td>\n",
       "      <td>2.0</td>\n",
       "      <td>152.0</td>\n",
       "      <td>0.0</td>\n",
       "      <td>0.0</td>\n",
       "      <td>2.0</td>\n",
       "      <td>1.0</td>\n",
       "      <td>3.0</td>\n",
       "      <td>0.0</td>\n",
       "    </tr>\n",
       "  </tbody>\n",
       "</table>\n",
       "</div>"
      ],
      "text/plain": [
       "    age  sex  chest_pain_types  resting_blood_pressure  serum_cholesterol  \\\n",
       "1  45.0  0.0               2.0                   130.0              234.0   \n",
       "4  47.0  1.0               4.0                   110.0              275.0   \n",
       "6  40.0  1.0               4.0                   110.0              167.0   \n",
       "7  57.0  1.0               4.0                   165.0              289.0   \n",
       "9  66.0  0.0               3.0                   146.0              278.0   \n",
       "\n",
       "   fasting_blood_sugar  resting_ECG  max_heart_rate  exercise_induced_angina  \\\n",
       "1                  0.0          2.0           175.0                      0.0   \n",
       "4                  0.0          2.0           118.0                      1.0   \n",
       "6                  0.0          2.0           114.0                      1.0   \n",
       "7                  1.0          2.0           124.0                      0.0   \n",
       "9                  0.0          2.0           152.0                      0.0   \n",
       "\n",
       "   depression_induced_by_exercise  peak_exercise_ST  \\\n",
       "1                             6.0               2.0   \n",
       "4                             1.0               2.0   \n",
       "6                             2.0               2.0   \n",
       "7                             1.0               2.0   \n",
       "9                             0.0               2.0   \n",
       "\n",
       "   flouroscopy_colored_major_vessels  thalassemia  diagnosis  \n",
       "1                                0.0          3.0        0.0  \n",
       "4                                1.0          3.0        1.0  \n",
       "6                                0.0          7.0        0.0  \n",
       "7                                3.0          7.0        0.0  \n",
       "9                                1.0          3.0        0.0  "
      ]
     },
     "execution_count": 4,
     "metadata": {},
     "output_type": "execute_result"
    }
   ],
   "source": [
    "final_df.dropna(inplace=True)\n",
    "final_df.head()"
   ]
  },
  {
   "cell_type": "code",
   "execution_count": 5,
   "id": "af6e34b9",
   "metadata": {},
   "outputs": [
    {
     "data": {
      "text/plain": [
       "<AxesSubplot:xlabel='diagnosis', ylabel='count'>"
      ]
     },
     "execution_count": 5,
     "metadata": {},
     "output_type": "execute_result"
    },
    {
     "data": {
      "image/png": "[encoded data removed]",
      "text/plain": [
       "<Figure size 432x288 with 1 Axes>"
      ]
     },
     "metadata": {
      "needs_background": "light"
     },
     "output_type": "display_data"
    }
   ],
   "source": [
    "import seaborn as sns\n",
    "sns.countplot(x=final_df['diagnosis'], label='count')#almost a 50-50 split\n"
   ]
  },
  {
   "cell_type": "code",
   "execution_count": 6,
   "id": "7a757ade",
   "metadata": {},
   "outputs": [
    {
     "data": {
      "text/plain": [
       "<AxesSubplot:xlabel='max_heart_rate', ylabel='count'>"
      ]
     },
     "execution_count": 6,
     "metadata": {},
     "output_type": "execute_result"
    },
    {
     "data": {
      "image/png": "[encoded data removed]",
      "text/plain": [
       "<Figure size 432x288 with 1 Axes>"
      ]
     },
     "metadata": {
      "needs_background": "light"
     },
     "output_type": "display_data"
    }
   ],
   "source": [
    "import seaborn as sns\n",
    "sns.countplot(x=final_df['max_heart_rate'], label='count')"
   ]
  },
  {
   "cell_type": "code",
   "execution_count": 7,
   "id": "41858002",
   "metadata": {},
   "outputs": [],
   "source": [
    "from sklearn.preprocessing import LabelEncoder, StandardScaler\n",
    "X = final_df.drop(['diagnosis'], axis=1)\n",
    "y = final_df.diagnosis"
   ]
  },
  {
   "cell_type": "code",
   "execution_count": 8,
   "id": "f282b87e",
   "metadata": {},
   "outputs": [],
   "source": [
    "from sklearn.model_selection import train_test_split\n",
    "xtrain, xtest, ytrain, ytest = train_test_split(X, y, test_size=0.3, random_state=10)"
   ]
  },
  {
   "cell_type": "code",
   "execution_count": 9,
   "id": "bce6c6a1",
   "metadata": {},
   "outputs": [],
   "source": [
    "#We scale to reduce time of execution\n",
    "sc = StandardScaler()\n",
    "xtrain = sc.fit_transform(xtrain)\n",
    "xtest = sc.fit_transform(xtest)"
   ]
  },
  {
   "cell_type": "code",
   "execution_count": 10,
   "id": "4531b6da",
   "metadata": {},
   "outputs": [],
   "source": [
    "from sklearn.neural_network import MLPClassifier\n",
    "#we start with hidden layers of 2, 2 then 10, 2 score stacks at 68%\n",
    "clf = MLPClassifier(solver='lbfgs', alpha=1e-5,hidden_layer_sizes=(10, 2), random_state=1)"
   ]
  },
  {
   "cell_type": "code",
   "execution_count": 11,
   "id": "59b2abec",
   "metadata": {},
   "outputs": [
    {
     "data": {
      "text/plain": [
       "0.6888888888888889"
      ]
     },
     "execution_count": 11,
     "metadata": {},
     "output_type": "execute_result"
    }
   ],
   "source": [
    "clf.fit(xtrain, ytrain)\n",
    "clf.score(xtest, ytest)"
   ]
  },
  {
   "cell_type": "code",
   "execution_count": 12,
   "id": "8cb96de6",
   "metadata": {},
   "outputs": [
    {
     "data": {
      "text/plain": [
       "array([1., 1., 1., 0., 0., 0., 1., 0., 1., 1., 1., 0., 1., 1., 0., 0., 0.,\n",
       "       1., 0., 1., 1., 0., 1., 0., 1., 1., 1., 0., 1., 0., 0., 1., 1., 1.,\n",
       "       0., 1., 0., 1., 1., 0., 0., 0., 0., 0., 1., 0., 1., 0., 1., 0., 1.,\n",
       "       0., 1., 1., 1., 1., 0., 0., 1., 1., 0., 1., 1., 1., 0., 1., 1., 1.,\n",
       "       0., 1., 0., 0., 0., 0., 1., 0., 0., 0., 0., 0., 0., 1., 0., 1., 0.,\n",
       "       0., 0., 0., 0., 0.])"
      ]
     },
     "execution_count": 12,
     "metadata": {},
     "output_type": "execute_result"
    }
   ],
   "source": [
    "y_pred = clf.predict(xtest)\n",
    "y_pred"
   ]
  },
  {
   "cell_type": "code",
   "execution_count": 13,
   "id": "2066403c",
   "metadata": {},
   "outputs": [
    {
     "name": "stdout",
     "output_type": "stream",
     "text": [
      "[[36 15  0  0]\n",
      " [11 26  0  0]\n",
      " [ 0  1  0  0]\n",
      " [ 0  1  0  0]]\n"
     ]
    }
   ],
   "source": [
    "from sklearn.metrics import classification_report, confusion_matrix\n",
    "print(confusion_matrix(ytest, y_pred))"
   ]
  },
  {
   "cell_type": "code",
   "execution_count": 14,
   "id": "08cb307a",
   "metadata": {},
   "outputs": [
    {
     "name": "stdout",
     "output_type": "stream",
     "text": [
      "              precision    recall  f1-score   support\n",
      "\n",
      "         0.0       0.77      0.71      0.73        51\n",
      "         1.0       0.60      0.70      0.65        37\n",
      "         3.0       0.00      0.00      0.00         1\n",
      "         4.0       0.00      0.00      0.00         1\n",
      "\n",
      "    accuracy                           0.69        90\n",
      "   macro avg       0.34      0.35      0.35        90\n",
      "weighted avg       0.68      0.69      0.68        90\n",
      "\n"
     ]
    },
    {
     "name": "stderr",
     "output_type": "stream",
     "text": [
      "C:\\Users\\Yamikani\\anaconda3\\lib\\site-packages\\sklearn\\metrics\\_classification.py:1245: UndefinedMetricWarning: Precision and F-score are ill-defined and being set to 0.0 in labels with no predicted samples. Use `zero_division` parameter to control this behavior.\n",
      "  _warn_prf(average, modifier, msg_start, len(result))\n",
      "C:\\Users\\Yamikani\\anaconda3\\lib\\site-packages\\sklearn\\metrics\\_classification.py:1245: UndefinedMetricWarning: Precision and F-score are ill-defined and being set to 0.0 in labels with no predicted samples. Use `zero_division` parameter to control this behavior.\n",
      "  _warn_prf(average, modifier, msg_start, len(result))\n",
      "C:\\Users\\Yamikani\\anaconda3\\lib\\site-packages\\sklearn\\metrics\\_classification.py:1245: UndefinedMetricWarning: Precision and F-score are ill-defined and being set to 0.0 in labels with no predicted samples. Use `zero_division` parameter to control this behavior.\n",
      "  _warn_prf(average, modifier, msg_start, len(result))\n"
     ]
    }
   ],
   "source": [
    "print(classification_report(ytest, y_pred))"
   ]
  },
  {
   "cell_type": "code",
   "execution_count": 15,
   "id": "3f63386d",
   "metadata": {},
   "outputs": [
    {
     "name": "stdout",
     "output_type": "stream",
     "text": [
      "Accuracy: 0.5183 (0.064)\n"
     ]
    },
    {
     "data": {
      "text/plain": [
       "<function sklearn.model_selection._validation.cross_val_score(estimator, X, y=None, *, groups=None, scoring=None, cv=None, n_jobs=None, verbose=0, fit_params=None, pre_dispatch='2*n_jobs', error_score=nan)>"
      ]
     },
     "execution_count": 15,
     "metadata": {},
     "output_type": "execute_result"
    }
   ],
   "source": [
    "from numpy import mean\n",
    "from numpy import std\n",
    "from sklearn.model_selection import KFold\n",
    "from sklearn.model_selection import cross_val_score\n",
    "\n",
    "cv = KFold(n_splits=10, random_state=1, shuffle=True)\n",
    "scores = cross_val_score(clf, X, y, scoring='accuracy', cv=cv, n_jobs=-1)\n",
    "print('Accuracy: %.4f (%.3f)' % (mean(scores), std(scores)))\n",
    "cross_val_score#quiet low"
   ]
  },
  {
   "cell_type": "code",
   "execution_count": 54,
   "id": "f3d6aeff",
   "metadata": {},
   "outputs": [
    {
     "data": {
      "text/plain": [
       "SVC(kernel='linear')"
      ]
     },
     "execution_count": 54,
     "metadata": {},
     "output_type": "execute_result"
    }
   ],
   "source": [
    "#lets try with SVM\n",
    "from sklearn.svm import SVC\n",
    "x_train, x_test, y_train, y_test = train_test_split(X, y, test_size=0.2)#we attempt with no randomness\n",
    "clf2 = SVC(kernel='linear')\n",
    "clf2.fit(x_train, y_train)"
   ]
  },
  {
   "cell_type": "code",
   "execution_count": 17,
   "id": "efdbc282",
   "metadata": {},
   "outputs": [
    {
     "data": {
      "text/plain": [
       "array([0., 1., 0., 0., 1., 1., 1., 0., 1., 1., 0., 1., 1., 1., 0., 0., 1.,\n",
       "       0., 0., 1., 0., 0., 0., 1., 0., 0., 0., 1., 1., 0., 1., 1., 0., 0.,\n",
       "       1., 1., 1., 1., 1., 0., 0., 0., 1., 0., 1., 1., 1., 0., 0., 1., 0.,\n",
       "       0., 1., 0., 0., 1., 0., 0., 1., 0.])"
      ]
     },
     "execution_count": 17,
     "metadata": {},
     "output_type": "execute_result"
    }
   ],
   "source": [
    "pred = clf2.predict(x_test)\n",
    "pred"
   ]
  },
  {
   "cell_type": "code",
   "execution_count": 18,
   "id": "e0a71e41",
   "metadata": {},
   "outputs": [
    {
     "data": {
      "text/plain": [
       "0.8"
      ]
     },
     "execution_count": 18,
     "metadata": {},
     "output_type": "execute_result"
    }
   ],
   "source": [
    "clf2.score(x_test, y_test)"
   ]
  },
  {
   "cell_type": "code",
   "execution_count": 19,
   "id": "3a0a7500",
   "metadata": {},
   "outputs": [
    {
     "name": "stdout",
     "output_type": "stream",
     "text": [
      "[[26  5  0  0]\n",
      " [ 4 22  0  0]\n",
      " [ 1  1  0  0]\n",
      " [ 0  1  0  0]]\n"
     ]
    }
   ],
   "source": [
    "print(confusion_matrix(y_test, pred))"
   ]
  },
  {
   "cell_type": "code",
   "execution_count": 20,
   "id": "8e0e97ea",
   "metadata": {},
   "outputs": [
    {
     "name": "stdout",
     "output_type": "stream",
     "text": [
      "              precision    recall  f1-score   support\n",
      "\n",
      "         0.0       0.84      0.84      0.84        31\n",
      "         1.0       0.76      0.85      0.80        26\n",
      "         2.0       0.00      0.00      0.00         2\n",
      "         4.0       0.00      0.00      0.00         1\n",
      "\n",
      "    accuracy                           0.80        60\n",
      "   macro avg       0.40      0.42      0.41        60\n",
      "weighted avg       0.76      0.80      0.78        60\n",
      "\n"
     ]
    },
    {
     "name": "stderr",
     "output_type": "stream",
     "text": [
      "C:\\Users\\Yamikani\\anaconda3\\lib\\site-packages\\sklearn\\metrics\\_classification.py:1245: UndefinedMetricWarning: Precision and F-score are ill-defined and being set to 0.0 in labels with no predicted samples. Use `zero_division` parameter to control this behavior.\n",
      "  _warn_prf(average, modifier, msg_start, len(result))\n",
      "C:\\Users\\Yamikani\\anaconda3\\lib\\site-packages\\sklearn\\metrics\\_classification.py:1245: UndefinedMetricWarning: Precision and F-score are ill-defined and being set to 0.0 in labels with no predicted samples. Use `zero_division` parameter to control this behavior.\n",
      "  _warn_prf(average, modifier, msg_start, len(result))\n",
      "C:\\Users\\Yamikani\\anaconda3\\lib\\site-packages\\sklearn\\metrics\\_classification.py:1245: UndefinedMetricWarning: Precision and F-score are ill-defined and being set to 0.0 in labels with no predicted samples. Use `zero_division` parameter to control this behavior.\n",
      "  _warn_prf(average, modifier, msg_start, len(result))\n"
     ]
    }
   ],
   "source": [
    "print(classification_report(y_test, pred))"
   ]
  },
  {
   "cell_type": "code",
   "execution_count": 21,
   "id": "b04ee301",
   "metadata": {},
   "outputs": [
    {
     "name": "stdout",
     "output_type": "stream",
     "text": [
      "Accuracy: 0.776 (0.057)\n"
     ]
    },
    {
     "data": {
      "text/plain": [
       "<function sklearn.model_selection._validation.cross_val_score(estimator, X, y=None, *, groups=None, scoring=None, cv=None, n_jobs=None, verbose=0, fit_params=None, pre_dispatch='2*n_jobs', error_score=nan)>"
      ]
     },
     "execution_count": 21,
     "metadata": {},
     "output_type": "execute_result"
    }
   ],
   "source": [
    "cv2 = KFold(n_splits=10, random_state=1, shuffle=True)\n",
    "scores = cross_val_score(clf2, X, y, scoring='accuracy', cv=cv, n_jobs=-1)\n",
    "print('Accuracy: %.3f (%.3f)' % (mean(scores), std(scores)))\n",
    "cross_val_score"
   ]
  },
  {
   "cell_type": "code",
   "execution_count": 91,
   "id": "ebb7a6b4",
   "metadata": {},
   "outputs": [
    {
     "data": {
      "text/html": [
       "<div>\n",
       "<style scoped>\n",
       "    .dataframe tbody tr th:only-of-type {\n",
       "        vertical-align: middle;\n",
       "    }\n",
       "\n",
       "    .dataframe tbody tr th {\n",
       "        vertical-align: top;\n",
       "    }\n",
       "\n",
       "    .dataframe thead th {\n",
       "        text-align: right;\n",
       "    }\n",
       "</style>\n",
       "<table border=\"1\" class=\"dataframe\">\n",
       "  <thead>\n",
       "    <tr style=\"text-align: right;\">\n",
       "      <th></th>\n",
       "      <th>Machine Prediction</th>\n",
       "      <th>Real Diagnosis</th>\n",
       "    </tr>\n",
       "  </thead>\n",
       "  <tbody>\n",
       "    <tr>\n",
       "      <th>1</th>\n",
       "      <td>0.0</td>\n",
       "      <td>0.0</td>\n",
       "    </tr>\n",
       "    <tr>\n",
       "      <th>4</th>\n",
       "      <td>1.0</td>\n",
       "      <td>1.0</td>\n",
       "    </tr>\n",
       "    <tr>\n",
       "      <th>6</th>\n",
       "      <td>0.0</td>\n",
       "      <td>0.0</td>\n",
       "    </tr>\n",
       "    <tr>\n",
       "      <th>7</th>\n",
       "      <td>1.0</td>\n",
       "      <td>0.0</td>\n",
       "    </tr>\n",
       "    <tr>\n",
       "      <th>9</th>\n",
       "      <td>0.0</td>\n",
       "      <td>0.0</td>\n",
       "    </tr>\n",
       "    <tr>\n",
       "      <th>13</th>\n",
       "      <td>0.0</td>\n",
       "      <td>0.0</td>\n",
       "    </tr>\n",
       "    <tr>\n",
       "      <th>18</th>\n",
       "      <td>0.0</td>\n",
       "      <td>1.0</td>\n",
       "    </tr>\n",
       "    <tr>\n",
       "      <th>22</th>\n",
       "      <td>0.0</td>\n",
       "      <td>0.0</td>\n",
       "    </tr>\n",
       "    <tr>\n",
       "      <th>23</th>\n",
       "      <td>0.0</td>\n",
       "      <td>0.0</td>\n",
       "    </tr>\n",
       "    <tr>\n",
       "      <th>24</th>\n",
       "      <td>0.0</td>\n",
       "      <td>0.0</td>\n",
       "    </tr>\n",
       "    <tr>\n",
       "      <th>25</th>\n",
       "      <td>0.0</td>\n",
       "      <td>0.0</td>\n",
       "    </tr>\n",
       "    <tr>\n",
       "      <th>26</th>\n",
       "      <td>1.0</td>\n",
       "      <td>1.0</td>\n",
       "    </tr>\n",
       "    <tr>\n",
       "      <th>31</th>\n",
       "      <td>0.0</td>\n",
       "      <td>0.0</td>\n",
       "    </tr>\n",
       "    <tr>\n",
       "      <th>33</th>\n",
       "      <td>1.0</td>\n",
       "      <td>1.0</td>\n",
       "    </tr>\n",
       "    <tr>\n",
       "      <th>35</th>\n",
       "      <td>0.0</td>\n",
       "      <td>0.0</td>\n",
       "    </tr>\n",
       "    <tr>\n",
       "      <th>36</th>\n",
       "      <td>0.0</td>\n",
       "      <td>0.0</td>\n",
       "    </tr>\n",
       "    <tr>\n",
       "      <th>37</th>\n",
       "      <td>0.0</td>\n",
       "      <td>0.0</td>\n",
       "    </tr>\n",
       "    <tr>\n",
       "      <th>41</th>\n",
       "      <td>0.0</td>\n",
       "      <td>0.0</td>\n",
       "    </tr>\n",
       "    <tr>\n",
       "      <th>43</th>\n",
       "      <td>0.0</td>\n",
       "      <td>0.0</td>\n",
       "    </tr>\n",
       "    <tr>\n",
       "      <th>47</th>\n",
       "      <td>1.0</td>\n",
       "      <td>1.0</td>\n",
       "    </tr>\n",
       "  </tbody>\n",
       "</table>\n",
       "</div>"
      ],
      "text/plain": [
       "    Machine Prediction  Real Diagnosis\n",
       "1                  0.0             0.0\n",
       "4                  1.0             1.0\n",
       "6                  0.0             0.0\n",
       "7                  1.0             0.0\n",
       "9                  0.0             0.0\n",
       "13                 0.0             0.0\n",
       "18                 0.0             1.0\n",
       "22                 0.0             0.0\n",
       "23                 0.0             0.0\n",
       "24                 0.0             0.0\n",
       "25                 0.0             0.0\n",
       "26                 1.0             1.0\n",
       "31                 0.0             0.0\n",
       "33                 1.0             1.0\n",
       "35                 0.0             0.0\n",
       "36                 0.0             0.0\n",
       "37                 0.0             0.0\n",
       "41                 0.0             0.0\n",
       "43                 0.0             0.0\n",
       "47                 1.0             1.0"
      ]
     },
     "execution_count": 91,
     "metadata": {},
     "output_type": "execute_result"
    }
   ],
   "source": [
    "p = final_df[:20]\n",
    "pd.DataFrame({'Machine Prediction':clf2.predict(X[:20]), 'Real Diagnosis': p['diagnosis']})#predict for first 20"
   ]
  },
  {
   "cell_type": "markdown",
   "id": "fe7ed27c",
   "metadata": {},
   "source": [
    "## Model Improvement\n",
    ">I improve by finding feature importance"
   ]
  },
  {
   "cell_type": "code",
   "execution_count": 39,
   "id": "f9aac2cb",
   "metadata": {},
   "outputs": [
    {
     "name": "stdout",
     "output_type": "stream",
     "text": [
      "Feature: 0, Score: -0.00762\n",
      "Feature: 1, Score: -0.51653\n",
      "Feature: 2, Score: -0.38402\n",
      "Feature: 3, Score: -0.01117\n",
      "Feature: 4, Score: 0.00270\n",
      "Feature: 5, Score: 0.61313\n",
      "Feature: 6, Score: -0.02231\n",
      "Feature: 7, Score: 0.01069\n",
      "Feature: 8, Score: -0.47519\n",
      "Feature: 9, Score: -0.02373\n",
      "Feature: 10, Score: -0.26041\n",
      "Feature: 11, Score: -0.52582\n",
      "Feature: 12, Score: -0.25558\n"
     ]
    },
    {
     "data": {
      "image/png": "[encoded data removed]",
      "text/plain": [
       "<Figure size 432x288 with 1 Axes>"
      ]
     },
     "metadata": {
      "needs_background": "light"
     },
     "output_type": "display_data"
    }
   ],
   "source": [
    "importance = clf2.coef_[0]\n",
    "for i,v in enumerate(importance):\n",
    "\tprint('Feature: %0d, Score: %.5f' % (i,v))\n",
    "plt.bar([x for x in range(len(importance))], importance)\n",
    "plt.show()"
   ]
  },
  {
   "cell_type": "code",
   "execution_count": 69,
   "id": "e2c79af6",
   "metadata": {
    "scrolled": true
   },
   "outputs": [],
   "source": [
    "#remove least important feature and retrain the SVM\n",
    "l = X.columns[[0, 3, 4, 5, 6, 7, 9, 10, 12]]#removed feature 2, 3, 8, 11\n",
    "feature_df = X[l]"
   ]
  },
  {
   "cell_type": "code",
   "execution_count": 70,
   "id": "240fa8af",
   "metadata": {},
   "outputs": [
    {
     "data": {
      "text/plain": [
       "SVC(kernel='linear')"
      ]
     },
     "execution_count": 70,
     "metadata": {},
     "output_type": "execute_result"
    }
   ],
   "source": [
    "x_train, x_test, y_train, y_test = train_test_split(feature_df, y, test_size=0.3)#we attempt with no randomness\n",
    "clf_final = SVC(kernel='linear')\n",
    "clf_final.fit(x_train, y_train)"
   ]
  },
  {
   "cell_type": "code",
   "execution_count": 71,
   "id": "af4d73c4",
   "metadata": {},
   "outputs": [
    {
     "data": {
      "text/plain": [
       "0.8222222222222222"
      ]
     },
     "execution_count": 71,
     "metadata": {},
     "output_type": "execute_result"
    }
   ],
   "source": [
    "clf_final.score(x_test, y_test)"
   ]
  },
  {
   "cell_type": "code",
   "execution_count": 74,
   "id": "de9719eb",
   "metadata": {},
   "outputs": [
    {
     "name": "stdout",
     "output_type": "stream",
     "text": [
      "[[42  6  0  0]\n",
      " [ 6 32  0  0]\n",
      " [ 1  1  0  0]\n",
      " [ 1  1  0  0]]\n"
     ]
    }
   ],
   "source": [
    "pred_final = clf_final.predict(x_test)\n",
    "print(confusion_matrix(y_test, pred_final))"
   ]
  },
  {
   "cell_type": "code",
   "execution_count": 75,
   "id": "2c098d3f",
   "metadata": {},
   "outputs": [
    {
     "name": "stdout",
     "output_type": "stream",
     "text": [
      "              precision    recall  f1-score   support\n",
      "\n",
      "         0.0       0.84      0.88      0.86        48\n",
      "         1.0       0.80      0.84      0.82        38\n",
      "         2.0       0.00      0.00      0.00         2\n",
      "         3.0       0.00      0.00      0.00         2\n",
      "\n",
      "    accuracy                           0.82        90\n",
      "   macro avg       0.41      0.43      0.42        90\n",
      "weighted avg       0.79      0.82      0.80        90\n",
      "\n"
     ]
    },
    {
     "name": "stderr",
     "output_type": "stream",
     "text": [
      "C:\\Users\\Yamikani\\anaconda3\\lib\\site-packages\\sklearn\\metrics\\_classification.py:1245: UndefinedMetricWarning: Precision and F-score are ill-defined and being set to 0.0 in labels with no predicted samples. Use `zero_division` parameter to control this behavior.\n",
      "  _warn_prf(average, modifier, msg_start, len(result))\n",
      "C:\\Users\\Yamikani\\anaconda3\\lib\\site-packages\\sklearn\\metrics\\_classification.py:1245: UndefinedMetricWarning: Precision and F-score are ill-defined and being set to 0.0 in labels with no predicted samples. Use `zero_division` parameter to control this behavior.\n",
      "  _warn_prf(average, modifier, msg_start, len(result))\n",
      "C:\\Users\\Yamikani\\anaconda3\\lib\\site-packages\\sklearn\\metrics\\_classification.py:1245: UndefinedMetricWarning: Precision and F-score are ill-defined and being set to 0.0 in labels with no predicted samples. Use `zero_division` parameter to control this behavior.\n",
      "  _warn_prf(average, modifier, msg_start, len(result))\n"
     ]
    }
   ],
   "source": [
    "print(classification_report(y_test, pred_final))"
   ]
  },
  {
   "cell_type": "code",
   "execution_count": 99,
   "id": "7fc1755c",
   "metadata": {},
   "outputs": [
    {
     "data": {
      "text/plain": [
       "82.22222222222221"
      ]
     },
     "execution_count": 99,
     "metadata": {},
     "output_type": "execute_result"
    }
   ],
   "source": [
    "from sklearn.metrics import accuracy_score\n",
    "accuracy_final = accuracy_score(y_test, pred_final)\n",
    "accuracy_final*100"
   ]
  },
  {
   "cell_type": "code",
   "execution_count": 101,
   "id": "75fa5333",
   "metadata": {},
   "outputs": [
    {
     "data": {
      "image/png": "[encoded data removed]",
      "text/plain": [
       "<Figure size 576x432 with 2 Axes>"
      ]
     },
     "metadata": {
      "needs_background": "light"
     },
     "output_type": "display_data"
    }
   ],
   "source": [
    "def plot_confusion_matrix(test_targets, y_class):\n",
    "    '''function to plot confusion matrix'''\n",
    "    cm = confusion_matrix(test_targets, y_class)\n",
    "    target_names=['absent', 'present']\n",
    "\n",
    "    fig, ax = plt.subplots(figsize=(8,6))\n",
    "    sns.heatmap(cm, annot=True, fmt='.2f', xticklabels=target_names, yticklabels=target_names)\n",
    "    plt.ylabel('Actual',fontsize=15)\n",
    "    plt.xlabel('Predicted',fontsize=15)\n",
    "    plt.show(block=False)\n",
    "plot_confusion_matrix(y_test, pred_final)"
   ]
  },
  {
   "cell_type": "markdown",
   "id": "3af3b094",
   "metadata": {},
   "source": [
    "## The clf_final model is better so we compile "
   ]
  },
  {
   "cell_type": "code",
   "execution_count": 87,
   "id": "0504ecc2",
   "metadata": {},
   "outputs": [],
   "source": [
    "import pickle\n",
    "file_name = \"heart_disease_challenge_ysita.pkl\"\n",
    "\n",
    "# save\n",
    "pickle.dump(clf_final, open(file_name, \"wb\"))"
   ]
  }
 ],
 "metadata": {
  "kernelspec": {
   "display_name": "Python 3",
   "language": "python",
   "name": "python3"
  },
  "language_info": {
   "codemirror_mode": {
    "name": "ipython",
    "version": 3
   },
   "file_extension": ".py",
   "mimetype": "text/x-python",
   "name": "python",
   "nbconvert_exporter": "python",
   "pygments_lexer": "ipython3",
   "version": "3.8.8"
  }
 },
 "nbformat": 4,
 "nbformat_minor": 5
}
